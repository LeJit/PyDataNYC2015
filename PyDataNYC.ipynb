{
 "cells": [
  {
   "cell_type": "code",
   "execution_count": 49,
   "metadata": {
    "collapsed": false,
    "scrolled": true
   },
   "outputs": [
    {
     "data": {
      "text/plain": [
       "4"
      ]
     },
     "execution_count": 49,
     "metadata": {},
     "output_type": "execute_result"
    }
   ],
   "source": [
    "from joblib import Parallel, delayed  \n",
    "import multiprocessing\n",
    "\n",
    "num_cores = multiprocessing.cpu_count()\n",
    "num_cores"
   ]
  },
  {
   "cell_type": "markdown",
   "metadata": {},
   "source": [
    "# Joblib Examples"
   ]
  },
  {
   "cell_type": "code",
   "execution_count": 50,
   "metadata": {
    "collapsed": true
   },
   "outputs": [],
   "source": [
    "def squareNumber(i):  \n",
    "    return i * i"
   ]
  },
  {
   "cell_type": "code",
   "execution_count": 51,
   "metadata": {
    "collapsed": false
   },
   "outputs": [
    {
     "data": {
      "text/plain": [
       "[0,\n",
       " 1,\n",
       " 4,\n",
       " 9,\n",
       " 16,\n",
       " 25,\n",
       " 36,\n",
       " 49,\n",
       " 64,\n",
       " 81,\n",
       " 100,\n",
       " 121,\n",
       " 144,\n",
       " 169,\n",
       " 196,\n",
       " 225,\n",
       " 256,\n",
       " 289,\n",
       " 324,\n",
       " 361,\n",
       " 400,\n",
       " 441,\n",
       " 484,\n",
       " 529,\n",
       " 576]"
      ]
     },
     "execution_count": 51,
     "metadata": {},
     "output_type": "execute_result"
    }
   ],
   "source": [
    "inputs = range(25)\n",
    "Parallel(n_jobs=num_cores)(delayed(squareNumber)(i) for i in inputs)  "
   ]
  },
  {
   "cell_type": "markdown",
   "metadata": {},
   "source": [
    "## Check if line segments overlap"
   ]
  },
  {
   "cell_type": "code",
   "execution_count": 52,
   "metadata": {
    "collapsed": false
   },
   "outputs": [],
   "source": [
    "import numpy as np\n",
    "from matplotlib.path import Path\n",
    "\n",
    "## Create pairs of points for line segments\n",
    "all_segments = zip(np.random.rand(5000,2),np.random.rand(5000,2))\n",
    "test_segments = zip(np.random.rand(200,2),np.random.rand(200,2))\n",
    "\n",
    "## Check if one line segment contains another. \n",
    "def check_paths(path):\n",
    "    for other_path in all_segments:\n",
    "        res='no cross'\n",
    "        chck = Path(other_path)\n",
    "        if chck.contains_path(path)==1:\n",
    "            res= 'cross'\n",
    "            break\n",
    "    return res\n"
   ]
  },
  {
   "cell_type": "code",
   "execution_count": 53,
   "metadata": {
    "collapsed": false
   },
   "outputs": [
    {
     "name": "stdout",
     "output_type": "stream",
     "text": [
      "CPU times: user 112 ms, sys: 26.1 ms, total: 138 ms\n",
      "Wall time: 4.59 s\n"
     ]
    }
   ],
   "source": [
    "%time res = Parallel(n_jobs=-1) (delayed(check_paths) (Path(test_segment)) for test_segment in test_segments)"
   ]
  },
  {
   "cell_type": "code",
   "execution_count": 54,
   "metadata": {
    "collapsed": false
   },
   "outputs": [
    {
     "name": "stdout",
     "output_type": "stream",
     "text": [
      "CPU times: user 14.3 s, sys: 289 ms, total: 14.6 s\n",
      "Wall time: 15 s\n"
     ]
    }
   ],
   "source": [
    "%time res = Parallel(n_jobs=1) (delayed(check_paths) (Path(test_segment)) for test_segment in test_segments)"
   ]
  },
  {
   "cell_type": "markdown",
   "metadata": {},
   "source": [
    "## Global States"
   ]
  },
  {
   "cell_type": "code",
   "execution_count": 55,
   "metadata": {
    "collapsed": false
   },
   "outputs": [
    {
     "data": {
      "text/plain": [
       "[0, 1, 2, 3]"
      ]
     },
     "execution_count": 55,
     "metadata": {},
     "output_type": "execute_result"
    }
   ],
   "source": [
    "global A\n",
    "A = [0, 0, 0, 0]\n",
    "\n",
    "def modifyArray(i):  \n",
    "    global A\n",
    "    A[i] = i\n",
    "    \n",
    "A = [0, 0, 0, 0]\n",
    "for i in range(0, 4):\n",
    "    modifyArray(i)\n",
    "    \n",
    "A"
   ]
  },
  {
   "cell_type": "code",
   "execution_count": 56,
   "metadata": {
    "collapsed": false
   },
   "outputs": [
    {
     "data": {
      "text/plain": [
       "[0, 0, 0, 0]"
      ]
     },
     "execution_count": 56,
     "metadata": {},
     "output_type": "execute_result"
    }
   ],
   "source": [
    "A = [0, 0, 0, 0]\n",
    "\n",
    "Parallel(n_jobs=-1) (delayed(modifyArray)(i) for i in range(0, 4))\n",
    "\n",
    "A"
   ]
  },
  {
   "cell_type": "code",
   "execution_count": 57,
   "metadata": {
    "collapsed": false
   },
   "outputs": [
    {
     "data": {
      "text/plain": [
       "[0, 1, 2, 3]"
      ]
     },
     "execution_count": 57,
     "metadata": {},
     "output_type": "execute_result"
    }
   ],
   "source": [
    "def calcNewValue(i):\n",
    "    return i\n",
    "\n",
    "A = [0, 0, 0, 0]\n",
    "\n",
    "newA = Parallel(n_jobs=-1) (delayed(calcNewValue)(i) for i in range(0, 4))\n",
    "newA"
   ]
  },
  {
   "cell_type": "markdown",
   "metadata": {
    "collapsed": false
   },
   "source": [
    "# Machine Learning Examples"
   ]
  },
  {
   "cell_type": "code",
   "execution_count": 58,
   "metadata": {
    "collapsed": true
   },
   "outputs": [],
   "source": [
    "from sklearn.ensemble import RandomForestClassifier\n",
    "from sklearn import cross_validation\n",
    "from sklearn import datasets"
   ]
  },
  {
   "cell_type": "code",
   "execution_count": 59,
   "metadata": {
    "collapsed": true
   },
   "outputs": [],
   "source": [
    "digits = datasets.load_digits()\n",
    "X_train, X_test, Y_train, Y_test = cross_validation.train_test_split(digits.data, digits.target, test_size = 0.35)"
   ]
  },
  {
   "cell_type": "markdown",
   "metadata": {},
   "source": [
    "## Random Forest"
   ]
  },
  {
   "cell_type": "code",
   "execution_count": 60,
   "metadata": {
    "collapsed": false
   },
   "outputs": [],
   "source": [
    "clf = RandomForestClassifier(n_estimators = 200, n_jobs = -1)\n",
    "clf_base = RandomForestClassifier(n_estimators = 200, n_jobs = 1)"
   ]
  },
  {
   "cell_type": "code",
   "execution_count": 61,
   "metadata": {
    "collapsed": false
   },
   "outputs": [
    {
     "name": "stdout",
     "output_type": "stream",
     "text": [
      "CPU times: user 344 ms, sys: 29.8 ms, total: 374 ms\n",
      "Wall time: 174 ms\n"
     ]
    }
   ],
   "source": [
    "%time res = clf.fit(X_train, Y_train)"
   ]
  },
  {
   "cell_type": "code",
   "execution_count": 62,
   "metadata": {
    "collapsed": false
   },
   "outputs": [
    {
     "name": "stdout",
     "output_type": "stream",
     "text": [
      "CPU times: user 335 ms, sys: 11.4 ms, total: 346 ms\n",
      "Wall time: 365 ms\n"
     ]
    }
   ],
   "source": [
    "%time res = clf_base.fit(X_train, Y_train)"
   ]
  },
  {
   "cell_type": "markdown",
   "metadata": {},
   "source": [
    "## GridSearch"
   ]
  },
  {
   "cell_type": "code",
   "execution_count": 63,
   "metadata": {
    "collapsed": true
   },
   "outputs": [],
   "source": [
    "from sklearn.svm import SVC\n",
    "from sklearn import grid_search"
   ]
  },
  {
   "cell_type": "code",
   "execution_count": 64,
   "metadata": {
    "collapsed": true
   },
   "outputs": [],
   "source": [
    "parameters = {'kernel': ['linear', 'rbf'], 'C': [0.1, 1, 10]}\n",
    "svr = SVC()"
   ]
  },
  {
   "cell_type": "code",
   "execution_count": 65,
   "metadata": {
    "collapsed": false
   },
   "outputs": [
    {
     "name": "stdout",
     "output_type": "stream",
     "text": [
      "CPU times: user 113 ms, sys: 28.6 ms, total: 142 ms\n",
      "Wall time: 632 ms\n"
     ]
    }
   ],
   "source": [
    "%time res = grid_search.GridSearchCV(svr, parameters, n_jobs = -1).fit(X_train, Y_train)"
   ]
  },
  {
   "cell_type": "code",
   "execution_count": 66,
   "metadata": {
    "collapsed": false
   },
   "outputs": [
    {
     "name": "stdout",
     "output_type": "stream",
     "text": [
      "CPU times: user 1.3 s, sys: 25.7 ms, total: 1.33 s\n",
      "Wall time: 1.37 s\n"
     ]
    }
   ],
   "source": [
    "%time res = grid_search.GridSearchCV(svr, parameters, n_jobs = 1).fit(X_train, Y_train)"
   ]
  },
  {
   "cell_type": "markdown",
   "metadata": {},
   "source": [
    "# GPU Example"
   ]
  },
  {
   "cell_type": "code",
   "execution_count": 67,
   "metadata": {
    "collapsed": false
   },
   "outputs": [],
   "source": [
    "X_train_flat = (X_train/X_train.max())-0.5\n",
    "X_train_flat = X_train_flat.astype(\"float32\")\n",
    "Y_train_flat = Y_train.astype('int32')"
   ]
  },
  {
   "cell_type": "code",
   "execution_count": 68,
   "metadata": {
    "collapsed": false
   },
   "outputs": [],
   "source": [
    "from lasagne import layers\n",
    "from lasagne.updates import nesterov_momentum\n",
    "from lasagne.nonlinearities import softmax\n",
    "from nolearn.lasagne import NeuralNet\n",
    "\n",
    "net1 = NeuralNet(\n",
    "\tlayers = [\n",
    "\t\t('input', layers.InputLayer),\n",
    "\t\t('hidden', layers.DenseLayer),\n",
    "\t\t('output', layers.DenseLayer),\n",
    "\t\t],\n",
    "\t\t#layers parameters:\n",
    "\t\tinput_shape = (None, 64),\n",
    "\t\thidden_num_units = 100,\n",
    "\t\toutput_nonlinearity = softmax,\n",
    "\t\toutput_num_units = 10,\n",
    " \n",
    "\t\t#optimization parameters:\n",
    "\t\tupdate = nesterov_momentum,\n",
    "\t\tupdate_learning_rate = 0.01,\n",
    "\t\tupdate_momentum = 0.9,\n",
    " \n",
    "\t\tregression = False,\n",
    "\t\tmax_epochs = 20,\n",
    "\t\tverbose = 1,\n",
    "\t\t)"
   ]
  },
  {
   "cell_type": "code",
   "execution_count": 69,
   "metadata": {
    "collapsed": false
   },
   "outputs": [
    {
     "name": "stdout",
     "output_type": "stream",
     "text": [
      "  input             \t(None, 64)          \tproduces      64 outputs\n",
      "  hidden            \t(None, 100)         \tproduces     100 outputs\n",
      "  output            \t(None, 10)          \tproduces      10 outputs\n",
      "  epoch    train loss    valid loss    train/val    valid acc  dur\n",
      "-------  ------------  ------------  -----------  -----------  -----\n",
      "      1       \u001b[94m2.33249\u001b[0m       \u001b[32m2.23909\u001b[0m      1.04172      0.16776  0.00s\n",
      "      2       \u001b[94m2.16889\u001b[0m       \u001b[32m2.06223\u001b[0m      1.05172      0.39858  0.00s\n",
      "      3       \u001b[94m1.99281\u001b[0m       \u001b[32m1.89214\u001b[0m      1.05320      0.66321  0.00s\n",
      "      4       \u001b[94m1.81908\u001b[0m       \u001b[32m1.72251\u001b[0m      1.05606      0.72301  0.00s\n",
      "      5       \u001b[94m1.64260\u001b[0m       \u001b[32m1.55307\u001b[0m      1.05765      0.76072  0.00s\n",
      "      6       \u001b[94m1.46758\u001b[0m       \u001b[32m1.38959\u001b[0m      1.05612      0.77244  0.00s\n",
      "      7       \u001b[94m1.30117\u001b[0m       \u001b[32m1.23676\u001b[0m      1.05208      0.79261  0.00s\n",
      "      8       \u001b[94m1.14755\u001b[0m       \u001b[32m1.09931\u001b[0m      1.04388      0.82770  0.00s\n",
      "      9       \u001b[94m1.01099\u001b[0m       \u001b[32m0.98018\u001b[0m      1.03144      0.84723  0.00s\n",
      "     10       \u001b[94m0.89320\u001b[0m       \u001b[32m0.87975\u001b[0m      1.01529      0.86286  0.00s\n",
      "     11       \u001b[94m0.79389\u001b[0m       \u001b[32m0.79612\u001b[0m      0.99720      0.85440  0.00s\n",
      "     12       \u001b[94m0.71118\u001b[0m       \u001b[32m0.72680\u001b[0m      0.97851      0.86740  0.00s\n",
      "     13       \u001b[94m0.64259\u001b[0m       \u001b[32m0.66941\u001b[0m      0.95993      0.87195  0.00s\n",
      "     14       \u001b[94m0.58553\u001b[0m       \u001b[32m0.62146\u001b[0m      0.94218      0.87131  0.00s\n",
      "     15       \u001b[94m0.53775\u001b[0m       \u001b[32m0.58111\u001b[0m      0.92538      0.87521  0.00s\n",
      "     16       \u001b[94m0.49736\u001b[0m       \u001b[32m0.54674\u001b[0m      0.90968      0.87912  0.00s\n",
      "     17       \u001b[94m0.46288\u001b[0m       \u001b[32m0.51723\u001b[0m      0.89492      0.88821  0.00s\n",
      "     18       \u001b[94m0.43312\u001b[0m       \u001b[32m0.49151\u001b[0m      0.88121      0.89276  0.00s\n",
      "     19       \u001b[94m0.40719\u001b[0m       \u001b[32m0.46892\u001b[0m      0.86836      0.89276  0.00s\n",
      "     20       \u001b[94m0.38438\u001b[0m       \u001b[32m0.44891\u001b[0m      0.85626      0.89730  0.00s\n"
     ]
    },
    {
     "data": {
      "text/plain": [
       "NeuralNet(X_tensor_type=<function matrix at 0x108dfb578>,\n",
       "     batch_iterator_test=<nolearn.lasagne.base.BatchIterator object at 0x1094c9f50>,\n",
       "     batch_iterator_train=<nolearn.lasagne.base.BatchIterator object at 0x1094bb110>,\n",
       "     custom_score=None, eval_size=0.2, hidden_num_units=100,\n",
       "     input_shape=(None, 64),\n",
       "     layers=[('input', <class 'lasagne.layers.input.InputLayer'>), ('hidden', <class 'lasagne.layers.dense.DenseLayer'>), ('output', <class 'lasagne.layers.dense.DenseLayer'>)],\n",
       "     loss=None, max_epochs=20, more_params={},\n",
       "     objective=<class 'lasagne.objectives.Objective'>,\n",
       "     objective_loss_function=<function categorical_crossentropy at 0x1094a5cf8>,\n",
       "     on_epoch_finished=[<nolearn.lasagne.util.PrintLog instance at 0x10a7f3f38>],\n",
       "     on_training_finished=[],\n",
       "     output_nonlinearity=<function softmax at 0x1093128c0>,\n",
       "     output_num_units=10, regression=False,\n",
       "     update=<function nesterov_momentum at 0x1094ac6e0>,\n",
       "     update_learning_rate=0.01, update_momentum=0.9,\n",
       "     use_label_encoder=False, verbose=1,\n",
       "     y_tensor_type=TensorType(int32, vector))"
      ]
     },
     "execution_count": 69,
     "metadata": {},
     "output_type": "execute_result"
    }
   ],
   "source": [
    "net1.fit(X_train_flat, Y_train_flat)"
   ]
  },
  {
   "cell_type": "code",
   "execution_count": null,
   "metadata": {
    "collapsed": true
   },
   "outputs": [],
   "source": []
  }
 ],
 "metadata": {
  "kernelspec": {
   "display_name": "Python 2",
   "language": "python",
   "name": "python2"
  },
  "language_info": {
   "codemirror_mode": {
    "name": "ipython",
    "version": 2
   },
   "file_extension": ".py",
   "mimetype": "text/x-python",
   "name": "python",
   "nbconvert_exporter": "python",
   "pygments_lexer": "ipython2",
   "version": "2.7.10"
  }
 },
 "nbformat": 4,
 "nbformat_minor": 0
}
